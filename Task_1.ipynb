{
  "nbformat": 4,
  "nbformat_minor": 0,
  "metadata": {
    "colab": {
      "private_outputs": true,
      "provenance": []
    },
    "kernelspec": {
      "name": "python3",
      "display_name": "Python 3"
    },
    "language_info": {
      "name": "python"
    }
  },
  "cells": [
    {
      "cell_type": "code",
      "execution_count": null,
      "metadata": {
        "id": "4ypHkJE2MeEV"
      },
      "outputs": [],
      "source": [
        "import pandas as pd"
      ]
    },
    {
      "cell_type": "code",
      "source": [
        "df = pd.read_csv(\"/content/sample_data_with_missing_values.csv\")"
      ],
      "metadata": {
        "id": "Frh7QpLLNBiz"
      },
      "execution_count": null,
      "outputs": []
    },
    {
      "cell_type": "code",
      "source": [
        "print(\"Missing values before cleaning:\")\n",
        "print(df.isnull().sum())"
      ],
      "metadata": {
        "id": "QrVfcn8SNTwY"
      },
      "execution_count": null,
      "outputs": []
    },
    {
      "cell_type": "code",
      "source": [
        "categorical_cols = ['Name', 'Gender', 'Department']\n",
        "for col in categorical_cols:\n",
        "    mode_val = df[col].mode()[0]\n",
        "    df[col].fillna(mode_val, inplace=True)"
      ],
      "metadata": {
        "id": "bVykHcIgNWso"
      },
      "execution_count": null,
      "outputs": []
    },
    {
      "cell_type": "code",
      "source": [
        "numerical_cols = ['Age', 'Salary']\n",
        "for col in numerical_cols:\n",
        "    mean_val = df[col].mean()\n",
        "    df[col].fillna(mean_val, inplace=True)"
      ],
      "metadata": {
        "id": "ljiD1kr5NZGX"
      },
      "execution_count": null,
      "outputs": []
    },
    {
      "cell_type": "code",
      "source": [
        "# Display missing values after cleaning\n",
        "print(\"\\nMissing values after cleaning:\")\n",
        "print(df.isnull().sum())"
      ],
      "metadata": {
        "id": "qYA8H8tPNcz5"
      },
      "execution_count": null,
      "outputs": []
    },
    {
      "cell_type": "code",
      "source": [
        "print(\"\\nCleaned Dataset Sample:\")\n",
        "print(df.head())"
      ],
      "metadata": {
        "id": "TKYc6cPhNfru"
      },
      "execution_count": null,
      "outputs": []
    },
    {
      "cell_type": "code",
      "source": [
        "# Save cleaned dataset\n",
        "df.to_csv('cleaned_sample_data.csv', index=False)\n",
        "print(\"\\nCleaned dataset saved as 'cleaned_sample_data.csv'\")"
      ],
      "metadata": {
        "id": "6l0XVThvNiUn"
      },
      "execution_count": null,
      "outputs": []
    }
  ]
}